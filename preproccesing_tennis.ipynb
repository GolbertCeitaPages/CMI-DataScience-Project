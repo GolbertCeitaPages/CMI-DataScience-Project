{
 "cells": [
  {
   "cell_type": "code",
   "execution_count": null,
   "id": "36782e3f",
   "metadata": {},
   "outputs": [],
   "source": [
    "import pandas as pd\n",
    "import numpy as np\n",
    "import matplotlib.pyplot as plt\n",
    "from pathlib import Path\n",
    "\n",
    "df = pd.read_csv(\"atp_transformed/2000-2024 with covid.csv\")\n",
    "\n",
    "# Display first rows\n",
    "df.head()\n",
    "\n",
    "# Display dataframe info\n",
    "df.info()\n",
    "\n",
    "# Check for missing values\n",
    "df.isnull().sum()"
   ]
  },
  {
   "cell_type": "markdown",
   "id": "c039b710",
   "metadata": {},
   "source": [
    "\n",
    "\n",
    "We are dropping the rounds and scores because we are \"predicting a players future best ranking aka peak ATP rank\"\n",
    "So we need input features, because it describes their ability, form and performance up to now.\n",
    "\n",
    "#round_1 -> round_5 Many matches are best of 3, which means round_4 - round_5 are empty. Some tournaments report detailed set scores and some don't.\n",
    "#score gives the full score string, it's text and not structured. Parsing it into usable numbers will take a LOT of cleaning.\n",
    "\n",
    "Why they don’t add much value to our use case\n",
    "1. They describe only a single match outcome\n",
    "\n",
    "We already have match_outcome win/loss and can aggregate win rates per surface, tournament, etc.\n",
    "The actual set by set scores don’t help predict future peak rank as much as long-term performance trends.\n",
    "\n",
    "\n",
    "Format:\n",
    "put in format values of ground types here + other format values !!!!!!! <---------"
   ]
  },
  {
   "cell_type": "code",
   "execution_count": null,
   "id": "84713cc6",
   "metadata": {},
   "outputs": [],
   "source": [
    "cols = ['score','round_1','round_2','round_3','round_4','round_5']\n",
    "missing = df[cols].isna().mean().sort_values(ascending=False)\n",
    "\n",
    "plt.figure(figsize=(8,4))\n",
    "missing.plot(kind='bar', color='tomato')\n",
    "plt.title('Missing value ratio for set/score columns')\n",
    "plt.ylabel('Proportion missing')\n",
    "plt.xticks(rotation=45)\n",
    "plt.grid(axis='y', linestyle='--', alpha=0.6)\n",
    "plt.show()\n",
    "\n",
    "# Plot to visualize missing data\n",
    "missing"
   ]
  },
  {
   "cell_type": "code",
   "execution_count": null,
   "id": "fbbd01bd",
   "metadata": {},
   "outputs": [],
   "source": [
    "\n",
    "drop_cols = ['round_1','round_2','round_3','round_4','round_5','score', 'tourney_id', 'tourney_name','tourney_date', 'player_tourney_match_id']\n",
    "df = df.drop(columns=drop_cols, errors='ignore')\n",
    "# df['tourney_type'] = df['tourney_type'].replace({'matches': 1, 'futures': 2})\n",
    "df['player_hand'] = df['player_hand'].replace({'L': 1, 'R': 2})\n",
    "\n",
    "df.head()"
   ]
  },
  {
   "cell_type": "markdown",
   "id": "fc24d615",
   "metadata": {},
   "source": [
    "Everything that is unknown or zero, we fill in the most common hand."
   ]
  },
  {
   "cell_type": "code",
   "execution_count": null,
   "id": "97f97c5d",
   "metadata": {},
   "outputs": [],
   "source": [
    "df['player_hand'].value_counts(dropna=False)"
   ]
  },
  {
   "cell_type": "markdown",
   "id": "252895fd",
   "metadata": {},
   "source": [
    "After cleaning, the player_hand column contains 973,260 right-handed, 147,640 left-handed, 567 ambidextrous, and 168,513 unknown entries.\n",
    "Missing values 15 were filled with Unknown, resulting in a more complete categorical feature.\n",
    "\n",
    "Also changed the string names of player_hand into numeric values so we can train a data model better."
   ]
  },
  {
   "cell_type": "code",
   "execution_count": null,
   "id": "8c4311f1",
   "metadata": {},
   "outputs": [],
   "source": [
    "# Create missing flag\n",
    "df['player_hand_missing'] = df['player_hand'].isna().astype(int)\n",
    "\n",
    "#  Fill missing values with 'U' (Unknown)\n",
    "df['player_hand'] = df['player_hand'].fillna('U')\n",
    "\n",
    "# Normalize all codes to readable text\n",
    "df['player_hand'] = df['player_hand'].replace({\n",
    "    'R': 'Right',\n",
    "    'L': 'Left',\n",
    "    'U': 'Unknown',\n",
    "    'A': 'Ambidextrous'\n",
    "})\n",
    "\n",
    "df['player_hand'].head()"
   ]
  },
  {
   "cell_type": "markdown",
   "id": "48208142",
   "metadata": {},
   "source": [
    "For minutes, we put it into three buckets. And we made a new column called match_length that has those three buckets. \n",
    "The match_lenght that had empty fields we put into 'common'. And we deleted the minutes column"
   ]
  },
  {
   "cell_type": "code",
   "execution_count": null,
   "id": "fcb0311e",
   "metadata": {},
   "outputs": [],
   "source": [
    "#Count how many are missing (including blanks)\n",
    "empty_minutes = df[\"minutes\"].isna().sum() + (df[\"minutes\"].astype(str).str.strip() == \"\").sum()\n",
    "print(f\"Empty or blank 'minutes': {empty_minutes}\")\n",
    "\n",
    "#Convert to numeric to ensure comparisons work\n",
    "df[\"minutes\"] = pd.to_numeric(df[\"minutes\"], errors=\"coerce\")"
   ]
  },
  {
   "cell_type": "code",
   "execution_count": null,
   "id": "b1356e88",
   "metadata": {},
   "outputs": [],
   "source": [
    "#Define the classifier function\n",
    "def classify_match_length(x):\n",
    "    if pd.isna(x):\n",
    "        return np.nan\n",
    "    elif x < 30:\n",
    "        #short\n",
    "        return 'short'  \n",
    "    elif x <= 90:\n",
    "        #medium\n",
    "        return 'medium'  \n",
    "    else:\n",
    "        #long\n",
    "        return 'long'  "
   ]
  },
  {
   "cell_type": "code",
   "execution_count": null,
   "id": "34c8f57b",
   "metadata": {},
   "outputs": [],
   "source": [
    "# Create match_length column \n",
    "df[\"match_length\"] = df[\"minutes\"].apply(classify_match_length)\n",
    "\n",
    "# Find the most common match length\n",
    "most_common_length = df[\"match_length\"].mode()[0]\n",
    "\n",
    "# Fill missing values with the mode\n",
    "df[\"match_length\"] = df[\"match_length\"].fillna(most_common_length)\n",
    "\n",
    "# Move 'match_length' column after 'minutes'\n",
    "minutes_index = df.columns.get_loc(\"minutes\")\n",
    "df.insert(minutes_index + 1, \"match_length\", df.pop(\"match_length\"))"
   ]
  },
  {
   "cell_type": "markdown",
   "id": "7e76db79",
   "metadata": {},
   "source": [
    "We want to fill in the missing values of player_height with the average. "
   ]
  },
  {
   "cell_type": "code",
   "execution_count": null,
   "id": "b1e4a2c9",
   "metadata": {},
   "outputs": [],
   "source": [
    "# Flag rows that were originally missing\n",
    "df['player_height_missing'] = df['player_height'].isna().astype(int)\n",
    "\n",
    "# Compute the mean (only from valid heights)\n",
    "mean_height = df['player_height'].mean()\n",
    "print(f\"Mean height used for imputation: {mean_height:.2f} cm\")\n",
    "\n",
    "# Fill missing values with the mean height\n",
    "df['player_height'] = df['player_height'].fillna(mean_height).round(0)\n",
    "\n",
    "# Verify the result\n",
    "print(\"Remaining NaNs:\", df['player_height'].isna().sum())\n",
    "print(\"Example values:\\n\", df[['player_height', 'player_height_missing']].head(10))"
   ]
  },
  {
   "cell_type": "code",
   "execution_count": null,
   "id": "6f4a932d",
   "metadata": {},
   "outputs": [],
   "source": [
    "# Flag rows that were originally missing\n",
    "df['player_age_missing'] = df['player_age'].isna().astype(int)\n",
    "\n",
    "# Compute the mean (only from valid heights)\n",
    "mean_age = df['player_age'].mean()\n",
    "print(f\"Mean age used for imputation: {mean_age:.2f} age\")\n",
    "\n",
    "# Fill missing values with the mean height\n",
    "df['player_age'] = df['player_age'].fillna(mean_age).round(0)\n",
    "\n",
    "# Verify the result\n",
    "print(\"Remaining NaNs:\", df['player_age'].isna().sum())\n",
    "print(\"Example values:\\n\", df[['player_height', 'player_age_missing']].head(10))"
   ]
  },
  {
   "cell_type": "code",
   "execution_count": null,
   "id": "ec674082",
   "metadata": {},
   "outputs": [],
   "source": [
    "# Calculate means player rank\n",
    "rank_mean = df[\"player_rank\"].mean()\n",
    "rank_points_mean = df[\"player_rank_points\"].mean()\n",
    "\n",
    "df[\"player_rank\"] = df[\"player_rank\"].fillna(rank_mean).round(0).astype(int)\n",
    "df[\"player_rank_points\"] = df[\"player_rank_points\"].fillna(rank_points_mean).round(0).astype(int)"
   ]
  },
  {
   "cell_type": "code",
   "execution_count": null,
   "id": "0da6af0b",
   "metadata": {},
   "outputs": [],
   "source": [
    "# Fill missing player_country with the most common country\n",
    "most_common_country = df[\"player_country\"].mode()[0]\n",
    "df[\"player_country\"] = df[\"player_country\"].fillna(most_common_country)"
   ]
  },
  {
   "cell_type": "code",
   "execution_count": null,
   "id": "25fbdbed",
   "metadata": {},
   "outputs": [],
   "source": [
    "# Fill missing surface with the most common surface\n",
    "most_common_surface = df[\"surface\"].mode()[0]\n",
    "df[\"surface\"] = df[\"surface\"].fillna(most_common_surface)"
   ]
  },
  {
   "cell_type": "code",
   "execution_count": null,
   "id": "0e03e5da",
   "metadata": {},
   "outputs": [],
   "source": [
    "missing_ratio = df.isna().mean().sort_values(ascending=False)\n",
    "missing_ratio.head(15)"
   ]
  },
  {
   "cell_type": "code",
   "execution_count": null,
   "id": "8bb4bec5",
   "metadata": {},
   "outputs": [],
   "source": [
    "# Choose one of the heavily-missing columns\n",
    "column_to_check = 'points_on_serve'\n",
    "\n",
    "# Calculate missing percentage per tourney_type\n",
    "missing_by_tourney = (\n",
    "    df.groupby('tourney_type')[column_to_check]\n",
    "      .apply(lambda x: x.isna().mean() * 100)\n",
    "      .sort_values(ascending=False)\n",
    ")\n",
    "\n",
    "print(f\"Percentage of missing '{column_to_check}' by tourney_type:\")\n",
    "print(missing_by_tourney)\n"
   ]
  },
  {
   "cell_type": "code",
   "execution_count": null,
   "id": "4c2fb3cb",
   "metadata": {},
   "outputs": [],
   "source": [
    "missing_by_tourney.plot(kind='bar', color='tomato', figsize=(8,4))\n",
    "plt.title(f\"Missing '{column_to_check}' (%) by Tournament Type\")\n",
    "plt.ylabel(\"Percentage Missing (%)\")\n",
    "plt.xlabel(\"Tournament Type\")\n",
    "plt.xticks(rotation=45)\n",
    "plt.grid(axis='y', linestyle='--', alpha=0.6)\n",
    "plt.show()"
   ]
  },
  {
   "cell_type": "code",
   "execution_count": null,
   "id": "b2e04687",
   "metadata": {},
   "outputs": [],
   "source": [
    "# open in data wrangler :)\n",
    "df\n",
    "\n",
    "# Save cleaned dataframe to new CSV (comment out to have it work)\n",
    "# output_path = Path.cwd() / \"atp_transformed\" / \"2000-2024_clean.csv\"\n",
    "# df.to_csv(\"atp_transformed/2000-2024_clean.csv\", index=False)"
   ]
  }
 ],
 "metadata": {
  "kernelspec": {
   "display_name": "data-visualization",
   "language": "python",
   "name": "python3"
  },
  "language_info": {
   "codemirror_mode": {
    "name": "ipython",
    "version": 3
   },
   "file_extension": ".py",
   "mimetype": "text/x-python",
   "name": "python",
   "nbconvert_exporter": "python",
   "pygments_lexer": "ipython3",
   "version": "3.13.5"
  }
 },
 "nbformat": 4,
 "nbformat_minor": 5
}
