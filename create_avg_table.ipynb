{
 "cells": [
  {
   "cell_type": "code",
   "execution_count": 2,
   "id": "b5fc8b02",
   "metadata": {},
   "outputs": [],
   "source": [
    "import pandas as pd\n",
    "import numpy as np\n",
    "from pathlib import Path\n",
    "\n",
    "source_folder = Path(\"atp_transformed/2000-2024 with covid.csv\")"
   ]
  },
  {
   "cell_type": "code",
   "execution_count": 3,
   "id": "de5deb74",
   "metadata": {},
   "outputs": [
    {
     "name": "stderr",
     "output_type": "stream",
     "text": [
      "C:\\Users\\Golbe\\AppData\\Local\\Temp\\ipykernel_40464\\1506103381.py:1: DtypeWarning: Columns (5,13) have mixed types. Specify dtype option on import or set low_memory=False.\n",
      "  df = pd.read_csv(source_folder)\n"
     ]
    }
   ],
   "source": [
    "df = pd.read_csv(source_folder)"
   ]
  },
  {
   "cell_type": "code",
   "execution_count": 4,
   "id": "75bd24e0",
   "metadata": {},
   "outputs": [],
   "source": [
    "# make everything date time\n",
    "df[\"tourney_date\"] = pd.to_datetime(df[\"tourney_date\"])\n",
    "\n",
    "# make a column with the years\n",
    "df[\"tourney_year\"] = df[\"tourney_date\"].dt.year\n",
    "\n",
    "# get the career length\n",
    "df_years = (\n",
    "    df.groupby(\"player_id\")[\"tourney_year\"]\n",
    "      .agg(first_season=\"min\", last_season=\"max\")\n",
    ")\n",
    "\n",
    "# create the years active of the player\n",
    "df_years[\"years_active\"] = df_years[\"last_season\"] - df_years[\"first_season\"] + 1"
   ]
  },
  {
   "cell_type": "code",
   "execution_count": 5,
   "id": "b7b47387",
   "metadata": {},
   "outputs": [],
   "source": [
    "\n",
    "# get the static data for all players\n",
    "df_statics = df[[\"player_id\",\"player_name\",\"player_height\", \"player_country\"]]\n",
    "df_statics = df_statics.drop_duplicates(\"player_id\")"
   ]
  },
  {
   "cell_type": "code",
   "execution_count": 6,
   "id": "99252327",
   "metadata": {},
   "outputs": [],
   "source": [
    "# create the total values for all players\n",
    "df_means = (\n",
    "    df.groupby(\"player_id\")[['minutes','player_rank_points', 'ace', 'double_faults',\n",
    "                               'points_on_serve','first_serve_in', '1st_won', '2nd_won', 'player_age',\n",
    "                               'service_games','break_points_saved', 'break_points_faced', 'match_outcome']]\n",
    "            .mean().round()\n",
    "            )"
   ]
  },
  {
   "cell_type": "code",
   "execution_count": 7,
   "id": "f551b17d",
   "metadata": {},
   "outputs": [],
   "source": [
    "df_match_count = df.groupby(\"player_id\").agg(matches_played=(\"match_outcome\",\"count\"))"
   ]
  },
  {
   "cell_type": "code",
   "execution_count": 8,
   "id": "950155fa",
   "metadata": {},
   "outputs": [],
   "source": [
    "df_max_rank = df.groupby(\"player_id\").agg(worst_rank=(\"player_rank\",\"max\"),best_rank=(\"player_rank\",\"min\")).round(0)\n",
    "df_max_rank[\"rank_differential\"] = df_max_rank[\"worst_rank\"] - df_max_rank[\"best_rank\"]"
   ]
  },
  {
   "cell_type": "code",
   "execution_count": 9,
   "id": "710e4966",
   "metadata": {},
   "outputs": [],
   "source": [
    "df_merged = (df_statics\n",
    "                .merge(df_means, on=\"player_id\",how=\"left\")\n",
    "                .merge(df_years, on=\"player_id\",how=\"left\")\n",
    "                .merge(df_match_count, on=\"player_id\",how=\"left\")\n",
    "                .merge(df_max_rank, on=\"player_id\",how=\"left\")\n",
    "             )\n",
    "\n",
    "df_merged.to_csv(Path(\"atp_transformed/2000-2024_career_averages.csv\"),index=False)"
   ]
  }
 ],
 "metadata": {
  "kernelspec": {
   "display_name": "Python 3",
   "language": "python",
   "name": "python3"
  },
  "language_info": {
   "codemirror_mode": {
    "name": "ipython",
    "version": 3
   },
   "file_extension": ".py",
   "mimetype": "text/x-python",
   "name": "python",
   "nbconvert_exporter": "python",
   "pygments_lexer": "ipython3",
   "version": "3.13.7"
  }
 },
 "nbformat": 4,
 "nbformat_minor": 5
}
